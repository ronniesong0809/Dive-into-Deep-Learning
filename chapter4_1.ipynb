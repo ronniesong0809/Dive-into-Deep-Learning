{
  "nbformat": 4,
  "nbformat_minor": 0,
  "metadata": {
    "colab": {
      "name": "chapter4-1",
      "provenance": [],
      "authorship_tag": "ABX9TyMQlfVNZDm4/Ot0iaz/9iZl",
      "include_colab_link": true
    },
    "kernelspec": {
      "name": "python3",
      "display_name": "Python 3"
    }
  },
  "cells": [
    {
      "cell_type": "markdown",
      "metadata": {
        "id": "view-in-github",
        "colab_type": "text"
      },
      "source": [
        "<a href=\"https://colab.research.google.com/github/ronniesong0809/Dive-into-Deep-Learning/blob/master/chapter4_1.ipynb\" target=\"_parent\"><img src=\"https://colab.research.google.com/assets/colab-badge.svg\" alt=\"Open In Colab\"/></a>"
      ]
    },
    {
      "cell_type": "code",
      "metadata": {
        "id": "59ld5Wg-u_iX",
        "colab_type": "code",
        "colab": {
          "base_uri": "https://localhost:8080/",
          "height": 34
        },
        "outputId": "111f472b-40fb-4b3e-93d1-77459222095d"
      },
      "source": [
        "%matplotlib inline\n",
        "import tensorflow as tf\n",
        "from tensorflow import keras\n",
        "import numpy as np\n",
        "import pandas as pd\n",
        "import matplotlib.pyplot as plt\n",
        "from tensorflow import initializers as init\n",
        "print(tf.__version__)"
      ],
      "execution_count": 16,
      "outputs": [
        {
          "output_type": "stream",
          "text": [
            "2.2.0\n"
          ],
          "name": "stdout"
        }
      ]
    },
    {
      "cell_type": "code",
      "metadata": {
        "id": "mBUfo84v0TrW",
        "colab_type": "code",
        "colab": {
          "base_uri": "https://localhost:8080/",
          "height": 34
        },
        "outputId": "72b770c8-3da7-46db-cdd6-b4259f981955"
      },
      "source": [
        "import tensorflow as tf\n",
        "import numpy as np\n",
        "print(tf.__version__)"
      ],
      "execution_count": 17,
      "outputs": [
        {
          "output_type": "stream",
          "text": [
            "2.2.0\n"
          ],
          "name": "stdout"
        }
      ]
    },
    {
      "cell_type": "code",
      "metadata": {
        "id": "QDlpwRkM0VGz",
        "colab_type": "code",
        "colab": {}
      },
      "source": [
        "class MLP(tf.keras.Model):\n",
        "    def __init__(self):\n",
        "        super().__init__()\n",
        "        self.flatten = tf.keras.layers.Flatten()\n",
        "        self.dense1 = tf.keras.layers.Dense(units=256, activation=tf.nn.relu)\n",
        "        self.dense2 = tf.keras.layers.Dense(units=10)\n",
        "\n",
        "    def call(self, inputs):         \n",
        "        x = self.flatten(inputs)   \n",
        "        x = self.dense1(x)    \n",
        "        output = self.dense2(x)     \n",
        "        return output"
      ],
      "execution_count": 18,
      "outputs": []
    },
    {
      "cell_type": "code",
      "metadata": {
        "id": "jjb2qyg70WTF",
        "colab_type": "code",
        "colab": {
          "base_uri": "https://localhost:8080/",
          "height": 119
        },
        "outputId": "8ce6d6f5-576d-404d-9cf4-936844177278"
      },
      "source": [
        "X = tf.random.uniform((2,20))\n",
        "net = MLP()\n",
        "net(X)"
      ],
      "execution_count": 19,
      "outputs": [
        {
          "output_type": "execute_result",
          "data": {
            "text/plain": [
              "<tf.Tensor: shape=(2, 10), dtype=float32, numpy=\n",
              "array([[-0.13726619,  0.03564936,  0.19467469,  0.33304805,  0.1590392 ,\n",
              "         0.43265438, -0.07955971, -0.00868493, -0.12551825,  0.2769177 ],\n",
              "       [ 0.11571886,  0.09873   ,  0.01119184,  0.27985704,  0.07780931,\n",
              "         0.4602334 ,  0.01183741, -0.07340824, -0.06841019,  0.23511659]],\n",
              "      dtype=float32)>"
            ]
          },
          "metadata": {
            "tags": []
          },
          "execution_count": 19
        }
      ]
    },
    {
      "cell_type": "code",
      "metadata": {
        "id": "WFHGWc0z0XcJ",
        "colab_type": "code",
        "colab": {
          "base_uri": "https://localhost:8080/",
          "height": 119
        },
        "outputId": "2dead07e-c254-4411-9777-6dae3a87a8e6"
      },
      "source": [
        "model = tf.keras.models.Sequential([\n",
        "    tf.keras.layers.Flatten(),\n",
        "    tf.keras.layers.Dense(256, activation=tf.nn.relu),\n",
        "    tf.keras.layers.Dense(10),\n",
        "])\n",
        "\n",
        "model(X)"
      ],
      "execution_count": 20,
      "outputs": [
        {
          "output_type": "execute_result",
          "data": {
            "text/plain": [
              "<tf.Tensor: shape=(2, 10), dtype=float32, numpy=\n",
              "array([[ 0.50330675, -0.20456609, -0.22456723, -0.16486989,  0.06633512,\n",
              "        -0.06032762, -0.23902464,  0.07759501,  0.02197033, -0.14143237],\n",
              "       [ 0.12093291, -0.23195106, -0.570036  ,  0.2271543 ,  0.04984084,\n",
              "        -0.05008057, -0.16191682,  0.01433781, -0.17586872, -0.173768  ]],\n",
              "      dtype=float32)>"
            ]
          },
          "metadata": {
            "tags": []
          },
          "execution_count": 20
        }
      ]
    },
    {
      "cell_type": "code",
      "metadata": {
        "id": "Y4AiH5Hs0ZGM",
        "colab_type": "code",
        "colab": {}
      },
      "source": [
        "class FancyMLP(tf.keras.Model):\n",
        "    def __init__(self):\n",
        "        super().__init__()\n",
        "        self.flatten = tf.keras.layers.Flatten()\n",
        "        self.rand_weight = tf.constant(\n",
        "            tf.random.uniform((20,20)))\n",
        "        self.dense = tf.keras.layers.Dense(units=20, activation=tf.nn.relu)\n",
        "\n",
        "    def call(self, inputs):         \n",
        "        x = self.flatten(inputs)   \n",
        "        x = tf.nn.relu(tf.matmul(x, self.rand_weight) + 1)\n",
        "        x = self.dense(x)    \n",
        "        while tf.norm(x) > 1:\n",
        "            x /= 2\n",
        "        if tf.norm(x) < 0.8:\n",
        "            x *= 10\n",
        "        return tf.reduce_sum(x)"
      ],
      "execution_count": 21,
      "outputs": []
    },
    {
      "cell_type": "code",
      "metadata": {
        "id": "7XtqCO2J0aMw",
        "colab_type": "code",
        "colab": {
          "base_uri": "https://localhost:8080/",
          "height": 34
        },
        "outputId": "a3d91c74-91a7-43c5-ba44-b237624beca4"
      },
      "source": [
        "net = FancyMLP()\n",
        "net(X)"
      ],
      "execution_count": 22,
      "outputs": [
        {
          "output_type": "execute_result",
          "data": {
            "text/plain": [
              "<tf.Tensor: shape=(), dtype=float32, numpy=21.63995>"
            ]
          },
          "metadata": {
            "tags": []
          },
          "execution_count": 22
        }
      ]
    },
    {
      "cell_type": "code",
      "metadata": {
        "id": "AXTbShkP0bM_",
        "colab_type": "code",
        "colab": {
          "base_uri": "https://localhost:8080/",
          "height": 34
        },
        "outputId": "1e03c697-73c7-4de3-8146-7241b2602061"
      },
      "source": [
        "class NestMLP(tf.keras.Model):\n",
        "    def __init__(self):\n",
        "        super().__init__()\n",
        "        self.net = tf.keras.Sequential()\n",
        "        self.net.add(tf.keras.layers.Flatten())\n",
        "        self.net.add(tf.keras.layers.Dense(64, activation=tf.nn.relu))\n",
        "        self.net.add(tf.keras.layers.Dense(32, activation=tf.nn.relu))\n",
        "        self.dense = tf.keras.layers.Dense(units=16, activation=tf.nn.relu)\n",
        "\n",
        "\n",
        "    def call(self, inputs):         \n",
        "        return self.dense(self.net(inputs))\n",
        "\n",
        "net = tf.keras.Sequential()\n",
        "net.add(NestMLP())\n",
        "net.add(tf.keras.layers.Dense(20))\n",
        "net.add(FancyMLP())\n",
        "\n",
        "net(X)"
      ],
      "execution_count": 23,
      "outputs": [
        {
          "output_type": "execute_result",
          "data": {
            "text/plain": [
              "<tf.Tensor: shape=(), dtype=float32, numpy=3.2830195>"
            ]
          },
          "metadata": {
            "tags": []
          },
          "execution_count": 23
        }
      ]
    }
  ]
}