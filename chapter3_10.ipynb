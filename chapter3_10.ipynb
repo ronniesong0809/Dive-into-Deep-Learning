{
  "nbformat": 4,
  "nbformat_minor": 0,
  "metadata": {
    "colab": {
      "name": "chapter3-10",
      "provenance": [],
      "authorship_tag": "ABX9TyODkHO3UAV2MuP9qe6OXMOp",
      "include_colab_link": true
    },
    "kernelspec": {
      "name": "python3",
      "display_name": "Python 3"
    }
  },
  "cells": [
    {
      "cell_type": "markdown",
      "metadata": {
        "id": "view-in-github",
        "colab_type": "text"
      },
      "source": [
        "<a href=\"https://colab.research.google.com/github/ronniesong0809/Dive-into-Deep-Learning/blob/master/chapter3_10.ipynb\" target=\"_parent\"><img src=\"https://colab.research.google.com/assets/colab-badge.svg\" alt=\"Open In Colab\"/></a>"
      ]
    },
    {
      "cell_type": "code",
      "metadata": {
        "id": "gJvxFrbRqu9O",
        "colab_type": "code",
        "colab": {}
      },
      "source": [
        "import sys\n",
        "import tensorflow as tf\n",
        "from tensorflow import keras\n",
        "fashion_mnist = keras.datasets.fashion_mnist"
      ],
      "execution_count": 1,
      "outputs": []
    },
    {
      "cell_type": "code",
      "metadata": {
        "id": "pKOqh7E5qxJp",
        "colab_type": "code",
        "colab": {}
      },
      "source": [
        "model = tf.keras.models.Sequential([\n",
        "    tf.keras.layers.Flatten(input_shape=(28, 28)),\n",
        "    tf.keras.layers.Dense(256, activation='relu',),\n",
        "    tf.keras.layers.Dense(10, activation='softmax')\n",
        "])"
      ],
      "execution_count": 2,
      "outputs": []
    },
    {
      "cell_type": "code",
      "metadata": {
        "id": "hCh95DsXqz1y",
        "colab_type": "code",
        "colab": {
          "base_uri": "https://localhost:8080/",
          "height": 153
        },
        "outputId": "eb355eb4-6b30-4b48-d61b-9a2b0867c66f"
      },
      "source": [
        "fashion_mnist = keras.datasets.fashion_mnist\n",
        "(x_train, y_train), (x_test, y_test) = fashion_mnist.load_data()\n",
        "x_train = x_train / 255.0\n",
        "x_test = x_test / 255.0"
      ],
      "execution_count": 3,
      "outputs": [
        {
          "output_type": "stream",
          "text": [
            "Downloading data from https://storage.googleapis.com/tensorflow/tf-keras-datasets/train-labels-idx1-ubyte.gz\n",
            "32768/29515 [=================================] - 0s 0us/step\n",
            "Downloading data from https://storage.googleapis.com/tensorflow/tf-keras-datasets/train-images-idx3-ubyte.gz\n",
            "26427392/26421880 [==============================] - 0s 0us/step\n",
            "Downloading data from https://storage.googleapis.com/tensorflow/tf-keras-datasets/t10k-labels-idx1-ubyte.gz\n",
            "8192/5148 [===============================================] - 0s 0us/step\n",
            "Downloading data from https://storage.googleapis.com/tensorflow/tf-keras-datasets/t10k-images-idx3-ubyte.gz\n",
            "4423680/4422102 [==============================] - 0s 0us/step\n"
          ],
          "name": "stdout"
        }
      ]
    },
    {
      "cell_type": "code",
      "metadata": {
        "id": "TxlMqGieq3a8",
        "colab_type": "code",
        "colab": {}
      },
      "source": [
        "optimizer = tf.keras.optimizers.SGD(lr=0.5)\n",
        "model.compile(optimizer=optimizer,\n",
        "             loss='sparse_categorical_crossentropy',\n",
        "             metrics=['accuracy'])"
      ],
      "execution_count": 4,
      "outputs": []
    },
    {
      "cell_type": "code",
      "metadata": {
        "id": "6oeBlDYqq3h3",
        "colab_type": "code",
        "colab": {
          "base_uri": "https://localhost:8080/",
          "height": 1000
        },
        "outputId": "a1b203f9-d7bf-43a7-a854-ab5f5325dacb"
      },
      "source": [
        "History = model.fit(x_train,\n",
        "                    y_train,\n",
        "                    epochs=50,\n",
        "                    batch_size=256,\n",
        "                    validation_data=(x_test, y_test),\n",
        "                    validation_freq=1)"
      ],
      "execution_count": 8,
      "outputs": [
        {
          "output_type": "stream",
          "text": [
            "Epoch 1/50\n",
            "235/235 [==============================] - 1s 6ms/step - loss: 0.2873 - accuracy: 0.8933 - val_loss: 0.4307 - val_accuracy: 0.8430\n",
            "Epoch 2/50\n",
            "235/235 [==============================] - 1s 6ms/step - loss: 0.2839 - accuracy: 0.8940 - val_loss: 0.4578 - val_accuracy: 0.8444\n",
            "Epoch 3/50\n",
            "235/235 [==============================] - 1s 6ms/step - loss: 0.2781 - accuracy: 0.8971 - val_loss: 0.4123 - val_accuracy: 0.8520\n",
            "Epoch 4/50\n",
            "235/235 [==============================] - 1s 6ms/step - loss: 0.2703 - accuracy: 0.8997 - val_loss: 0.3747 - val_accuracy: 0.8638\n",
            "Epoch 5/50\n",
            "235/235 [==============================] - 1s 6ms/step - loss: 0.2648 - accuracy: 0.9006 - val_loss: 0.3880 - val_accuracy: 0.8613\n",
            "Epoch 6/50\n",
            "235/235 [==============================] - 1s 6ms/step - loss: 0.2603 - accuracy: 0.9028 - val_loss: 0.4044 - val_accuracy: 0.8583\n",
            "Epoch 7/50\n",
            "235/235 [==============================] - 1s 6ms/step - loss: 0.2540 - accuracy: 0.9049 - val_loss: 0.3894 - val_accuracy: 0.8506\n",
            "Epoch 8/50\n",
            "235/235 [==============================] - 1s 6ms/step - loss: 0.2467 - accuracy: 0.9073 - val_loss: 0.3316 - val_accuracy: 0.8823\n",
            "Epoch 9/50\n",
            "235/235 [==============================] - 1s 6ms/step - loss: 0.2457 - accuracy: 0.9077 - val_loss: 0.3524 - val_accuracy: 0.8761\n",
            "Epoch 10/50\n",
            "235/235 [==============================] - 1s 6ms/step - loss: 0.2410 - accuracy: 0.9104 - val_loss: 0.3362 - val_accuracy: 0.8819\n",
            "Epoch 11/50\n",
            "235/235 [==============================] - 1s 6ms/step - loss: 0.2367 - accuracy: 0.9130 - val_loss: 0.4511 - val_accuracy: 0.8387\n",
            "Epoch 12/50\n",
            "235/235 [==============================] - 1s 6ms/step - loss: 0.2307 - accuracy: 0.9143 - val_loss: 0.3611 - val_accuracy: 0.8721\n",
            "Epoch 13/50\n",
            "235/235 [==============================] - 1s 6ms/step - loss: 0.2264 - accuracy: 0.9150 - val_loss: 0.3602 - val_accuracy: 0.8769\n",
            "Epoch 14/50\n",
            "235/235 [==============================] - 1s 6ms/step - loss: 0.2228 - accuracy: 0.9168 - val_loss: 0.4747 - val_accuracy: 0.8344\n",
            "Epoch 15/50\n",
            "235/235 [==============================] - 1s 6ms/step - loss: 0.2201 - accuracy: 0.9183 - val_loss: 0.3990 - val_accuracy: 0.8677\n",
            "Epoch 16/50\n",
            "235/235 [==============================] - 1s 6ms/step - loss: 0.2161 - accuracy: 0.9194 - val_loss: 0.3482 - val_accuracy: 0.8802\n",
            "Epoch 17/50\n",
            "235/235 [==============================] - 1s 6ms/step - loss: 0.2132 - accuracy: 0.9210 - val_loss: 0.3390 - val_accuracy: 0.8825\n",
            "Epoch 18/50\n",
            "235/235 [==============================] - 1s 6ms/step - loss: 0.2117 - accuracy: 0.9211 - val_loss: 0.3704 - val_accuracy: 0.8664\n",
            "Epoch 19/50\n",
            "235/235 [==============================] - 1s 6ms/step - loss: 0.2080 - accuracy: 0.9225 - val_loss: 0.3758 - val_accuracy: 0.8673\n",
            "Epoch 20/50\n",
            "235/235 [==============================] - 1s 6ms/step - loss: 0.2040 - accuracy: 0.9242 - val_loss: 0.3729 - val_accuracy: 0.8728\n",
            "Epoch 21/50\n",
            "235/235 [==============================] - 1s 6ms/step - loss: 0.1967 - accuracy: 0.9270 - val_loss: 0.4125 - val_accuracy: 0.8591\n",
            "Epoch 22/50\n",
            "235/235 [==============================] - 1s 6ms/step - loss: 0.1983 - accuracy: 0.9252 - val_loss: 0.3424 - val_accuracy: 0.8807\n",
            "Epoch 23/50\n",
            "235/235 [==============================] - 1s 6ms/step - loss: 0.1946 - accuracy: 0.9285 - val_loss: 0.3455 - val_accuracy: 0.8807\n",
            "Epoch 24/50\n",
            "235/235 [==============================] - 1s 6ms/step - loss: 0.1896 - accuracy: 0.9294 - val_loss: 0.4456 - val_accuracy: 0.8468\n",
            "Epoch 25/50\n",
            "235/235 [==============================] - 2s 6ms/step - loss: 0.1883 - accuracy: 0.9307 - val_loss: 0.3749 - val_accuracy: 0.8698\n",
            "Epoch 26/50\n",
            "235/235 [==============================] - 1s 6ms/step - loss: 0.1847 - accuracy: 0.9313 - val_loss: 0.3721 - val_accuracy: 0.8761\n",
            "Epoch 27/50\n",
            "235/235 [==============================] - 2s 6ms/step - loss: 0.1827 - accuracy: 0.9325 - val_loss: 0.3673 - val_accuracy: 0.8741\n",
            "Epoch 28/50\n",
            "235/235 [==============================] - 1s 6ms/step - loss: 0.1819 - accuracy: 0.9320 - val_loss: 0.3461 - val_accuracy: 0.8832\n",
            "Epoch 29/50\n",
            "235/235 [==============================] - 1s 6ms/step - loss: 0.1771 - accuracy: 0.9339 - val_loss: 0.3443 - val_accuracy: 0.8831\n",
            "Epoch 30/50\n",
            "235/235 [==============================] - 1s 6ms/step - loss: 0.1752 - accuracy: 0.9355 - val_loss: 0.3852 - val_accuracy: 0.8756\n",
            "Epoch 31/50\n",
            "235/235 [==============================] - 1s 6ms/step - loss: 0.1698 - accuracy: 0.9365 - val_loss: 0.3925 - val_accuracy: 0.8712\n",
            "Epoch 32/50\n",
            "235/235 [==============================] - 2s 6ms/step - loss: 0.1675 - accuracy: 0.9382 - val_loss: 0.3862 - val_accuracy: 0.8768\n",
            "Epoch 33/50\n",
            "235/235 [==============================] - 2s 6ms/step - loss: 0.1652 - accuracy: 0.9385 - val_loss: 0.3602 - val_accuracy: 0.8841\n",
            "Epoch 34/50\n",
            "235/235 [==============================] - 1s 6ms/step - loss: 0.1657 - accuracy: 0.9390 - val_loss: 0.3550 - val_accuracy: 0.8824\n",
            "Epoch 35/50\n",
            "235/235 [==============================] - 1s 6ms/step - loss: 0.1627 - accuracy: 0.9401 - val_loss: 0.3572 - val_accuracy: 0.8811\n",
            "Epoch 36/50\n",
            "235/235 [==============================] - 1s 6ms/step - loss: 0.1592 - accuracy: 0.9409 - val_loss: 0.4382 - val_accuracy: 0.8679\n",
            "Epoch 37/50\n",
            "235/235 [==============================] - 1s 6ms/step - loss: 0.1588 - accuracy: 0.9405 - val_loss: 0.3889 - val_accuracy: 0.8771\n",
            "Epoch 38/50\n",
            "235/235 [==============================] - 1s 6ms/step - loss: 0.1549 - accuracy: 0.9427 - val_loss: 0.3759 - val_accuracy: 0.8845\n",
            "Epoch 39/50\n",
            "235/235 [==============================] - 1s 6ms/step - loss: 0.1524 - accuracy: 0.9431 - val_loss: 0.3766 - val_accuracy: 0.8860\n",
            "Epoch 40/50\n",
            "235/235 [==============================] - 1s 6ms/step - loss: 0.1518 - accuracy: 0.9441 - val_loss: 0.3780 - val_accuracy: 0.8853\n",
            "Epoch 41/50\n",
            "235/235 [==============================] - 1s 6ms/step - loss: 0.1511 - accuracy: 0.9439 - val_loss: 0.3571 - val_accuracy: 0.8896\n",
            "Epoch 42/50\n",
            "235/235 [==============================] - 1s 6ms/step - loss: 0.1548 - accuracy: 0.9434 - val_loss: 0.3850 - val_accuracy: 0.8807\n",
            "Epoch 43/50\n",
            "235/235 [==============================] - 1s 6ms/step - loss: 0.1464 - accuracy: 0.9461 - val_loss: 0.3812 - val_accuracy: 0.8838\n",
            "Epoch 44/50\n",
            "235/235 [==============================] - 1s 6ms/step - loss: 0.1473 - accuracy: 0.9462 - val_loss: 0.4056 - val_accuracy: 0.8713\n",
            "Epoch 45/50\n",
            "235/235 [==============================] - 1s 6ms/step - loss: 0.1435 - accuracy: 0.9470 - val_loss: 0.5542 - val_accuracy: 0.8548\n",
            "Epoch 46/50\n",
            "235/235 [==============================] - 1s 6ms/step - loss: 0.1426 - accuracy: 0.9472 - val_loss: 0.4007 - val_accuracy: 0.8731\n",
            "Epoch 47/50\n",
            "235/235 [==============================] - 1s 6ms/step - loss: 0.1389 - accuracy: 0.9493 - val_loss: 0.4461 - val_accuracy: 0.8664\n",
            "Epoch 48/50\n",
            "235/235 [==============================] - 1s 6ms/step - loss: 0.1381 - accuracy: 0.9489 - val_loss: 0.4023 - val_accuracy: 0.8754\n",
            "Epoch 49/50\n",
            "235/235 [==============================] - 1s 6ms/step - loss: 0.1357 - accuracy: 0.9507 - val_loss: 0.3783 - val_accuracy: 0.8856\n",
            "Epoch 50/50\n",
            "235/235 [==============================] - 1s 6ms/step - loss: 0.1372 - accuracy: 0.9497 - val_loss: 0.4395 - val_accuracy: 0.8742\n"
          ],
          "name": "stdout"
        }
      ]
    },
    {
      "cell_type": "code",
      "metadata": {
        "id": "r6VhBhVUrY79",
        "colab_type": "code",
        "colab": {
          "base_uri": "https://localhost:8080/",
          "height": 295
        },
        "outputId": "d243cbac-4b0e-40c7-aef3-fdec2278d426"
      },
      "source": [
        "import matplotlib.pyplot as plt\n",
        "\n",
        "plt.plot(History.history['accuracy'])\n",
        "plt.plot(History.history['val_accuracy'])\n",
        "plt.title('Model Accuracy')\n",
        "plt.ylabel('Accuracy')\n",
        "plt.xlabel('Epochs')\n",
        "plt.legend(['accuracy', 'val_accuracy'])\n",
        "plt.show()"
      ],
      "execution_count": 9,
      "outputs": [
        {
          "output_type": "display_data",
          "data": {
            "image/png": "[encoded data removed]",
            "text/plain": [
              "<Figure size 432x288 with 1 Axes>"
            ]
          },
          "metadata": {
            "tags": [],
            "needs_background": "light"
          }
        }
      ]
    }
  ]
}